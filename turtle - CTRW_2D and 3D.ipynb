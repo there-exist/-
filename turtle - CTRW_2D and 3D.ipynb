{
 "cells": [
  {
   "cell_type": "code",
   "execution_count": 1,
   "metadata": {},
   "outputs": [],
   "source": [
    "import turtle\n",
    "import numpy as np\n",
    "import time"
   ]
  },
  {
   "cell_type": "code",
   "execution_count": null,
   "metadata": {},
   "outputs": [],
   "source": [
    "randomwalker = turtle.Turtle()\n",
    "randomwalker.shape('circle')"
   ]
  },
  {
   "cell_type": "code",
   "execution_count": null,
   "metadata": {},
   "outputs": [],
   "source": [
    "def initialize():\n",
    "    randomwalker.home()\n",
    "    randomwalker.clear()\n"
   ]
  },
  {
   "cell_type": "code",
   "execution_count": null,
   "metadata": {},
   "outputs": [],
   "source": [
    "def poisson(k):\n",
    "    return -np.log(np.random.rand())/k\n",
    "\n",
    "def CTRW2D(k,l,Total_time,object):\n",
    "    t = 0\n",
    "\n",
    "    while t < Total_time:        \n",
    "        t1 = poisson(k)\n",
    "        t2 = poisson(k)\n",
    "        t3 = poisson(k)\n",
    "        t4 = poisson(k)\n",
    "\n",
    "        T = min(t1,t2,t3,t4)\n",
    "\n",
    "        if T == t1:\n",
    "            time.sleep(t1)\n",
    "            object.fd(l)\n",
    "            t += t1\n",
    "        elif T == t2:\n",
    "            time.sleep(t2)\n",
    "            object.bk(l)\n",
    "            t += t2\n",
    "        elif T == t3:\n",
    "            time.sleep(t3)\n",
    "            object.rt(90)\n",
    "            object.fd(l)\n",
    "            object.lt(90)\n",
    "            t += t3\n",
    "        elif T == t4:\n",
    "            time.sleep(t4)\n",
    "            object.lt(90)\n",
    "            object.fd(l)\n",
    "            object.rt(90)\n",
    "            t += t4\n",
    "        \n",
    "\n",
    "def CTRW3D(k,l,Total_time,object):\n",
    "    t = 0\n",
    "\n",
    "    while t < Total_time:        \n",
    "        t1 = poisson(k)\n",
    "        t2 = poisson(k)\n",
    "        t3 = poisson(k)\n",
    "        t4 = poisson(k)\n",
    "        t5 = poisson(k)\n",
    "        t6 = poisson(k)\n",
    "\n",
    "        T = min(t1,t2,t3,t4,t5,t6)\n",
    "\n",
    "        if T == t1:\n",
    "            time.sleep(t1)\n",
    "            object.fd(l)\n",
    "            t += t1\n",
    "        elif T == t2:\n",
    "            time.sleep(t2)\n",
    "            object.bk(l)\n",
    "            t += t2\n",
    "        elif T == t3:\n",
    "            time.sleep(t3)\n",
    "            object.rt(90)\n",
    "            object.fd(l)\n",
    "            object.lt(90)\n",
    "            t += t3\n",
    "        elif T == t4:\n",
    "            time.sleep(t4)\n",
    "            object.lt(90)\n",
    "            object.fd(l)\n",
    "            object.rt(90)\n",
    "            t += t4\n",
    "        elif T == t5:\n",
    "            time.sleep(t5)\n",
    "            object.lt(30)\n",
    "            object.fd(l)\n",
    "            object.rt(30)\n",
    "        elif T == t6:\n",
    "            time.sleep(t6)\n",
    "            object.rt(150)\n",
    "            object.fd(l)\n",
    "            object.lt(150)"
   ]
  },
  {
   "cell_type": "code",
   "execution_count": null,
   "metadata": {},
   "outputs": [],
   "source": [
    "initialize()\n",
    "CTRW2D(k = 1000,l = 30,Total_time = 10, object = randomwalker)"
   ]
  },
  {
   "cell_type": "code",
   "execution_count": null,
   "metadata": {},
   "outputs": [],
   "source": [
    "initialize()\n",
    "CTRW3D(k = 1000,l = 10,Total_time = 10, object = randomwalker)"
   ]
  }
 ],
 "metadata": {
  "kernelspec": {
   "display_name": "Python 3",
   "language": "python",
   "name": "python3"
  },
  "language_info": {
   "codemirror_mode": {
    "name": "ipython",
    "version": 3
   },
   "file_extension": ".py",
   "mimetype": "text/x-python",
   "name": "python",
   "nbconvert_exporter": "python",
   "pygments_lexer": "ipython3",
   "version": "3.7.3"
  }
 },
 "nbformat": 4,
 "nbformat_minor": 2
}
