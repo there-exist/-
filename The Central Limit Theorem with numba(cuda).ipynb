{
 "cells": [
  {
   "cell_type": "code",
   "execution_count": 5,
   "metadata": {},
   "outputs": [],
   "source": [
    "from numba import jit\n",
    "from numba import cuda\n",
    "from numba.cuda.random import create_xoroshiro128p_states, xoroshiro128p_uniform_float32\n",
    "import numpy as np\n",
    "import math\n",
    "import matplotlib.pyplot as plt\n",
    "\n",
    "import time"
   ]
  },
  {
   "cell_type": "code",
   "execution_count": 6,
   "metadata": {},
   "outputs": [],
   "source": [
    "@cuda.jit\n",
    "def CLT(rng_states, iterations, out):\n",
    "    thread_id = cuda.grid(1)\n",
    "    \n",
    "    coin_up = 0\n",
    "    \n",
    "    for i in range(iterations):\n",
    "        dx = round(xoroshiro128p_uniform_float32(rng_states,thread_id))\n",
    "        \n",
    "        coin_up += dx\n",
    "        \n",
    "        \n",
    "            \n",
    "    out[thread_id] = coin_up"
   ]
  },
  {
   "cell_type": "code",
   "execution_count": 8,
   "metadata": {},
   "outputs": [
    {
     "name": "stdout",
     "output_type": "stream",
     "text": [
      "it takes 12.135254859924316 sec\n"
     ]
    }
   ],
   "source": [
    "threads_per_block = 1024\n",
    "blocks = 1024\n",
    "iterations = 100000\n",
    "\n",
    "#1개의 coin에 대해 iteration만큼 coin toss를 실시한다.\n",
    "#총 coin의 개수는 threads_per_block * blocks 이다.\n",
    "\n",
    "seed = time.time()\n",
    "\n",
    "rng_states = create_xoroshiro128p_states(threads_per_block * blocks, seed) \n",
    "# RNG(Random number generator)의 상태를 초기화해주는 것이다...!\n",
    "\n",
    "out = np.zeros(threads_per_block*blocks, dtype=np.int)\n",
    "\n",
    "s = time.time()\n",
    "\n",
    "CLT[blocks, threads_per_block](rng_states, iterations, out)\n",
    "\n",
    "e = time.time()\n",
    "\n",
    "print('it takes', e - s, 'sec')"
   ]
  },
  {
   "cell_type": "code",
   "execution_count": 9,
   "metadata": {},
   "outputs": [
    {
     "name": "stdout",
     "output_type": "stream",
     "text": [
      "mean value :  50000.15129375458\n",
      "variance value :  24946.34482889644\n"
     ]
    },
    {
     "data": {
      "image/png": "[encoded data removed]",
      "text/plain": [
       "<Figure size 432x288 with 1 Axes>"
      ]
     },
     "metadata": {
      "needs_background": "light"
     },
     "output_type": "display_data"
    },
    {
     "data": {
      "image/png": "[encoded data removed]",
      "text/plain": [
       "<Figure size 432x288 with 1 Axes>"
      ]
     },
     "metadata": {
      "needs_background": "light"
     },
     "output_type": "display_data"
    }
   ],
   "source": [
    "print('mean value : ',out.mean())\n",
    "print('variance value : ',out.var())\n",
    "plt.plot(out)\n",
    "plt.plot([0,threads_per_block*blocks],[out.mean(), out.mean()])\n",
    "plt.show()\n",
    "\n",
    "hist, bins = np.histogram(out,500)\n",
    "\n",
    "plt.plot(bins[:-1],hist)\n",
    "plt.show()"
   ]
  },
  {
   "cell_type": "code",
   "execution_count": 10,
   "metadata": {},
   "outputs": [],
   "source": [
    "def coin(n):\n",
    "    result = np.round(np.random.rand(n),0)\n",
    "    return result\n",
    "\n",
    "def CLT_without_cuda(n,r):\n",
    "    '''\n",
    "    n : 던지는 동전의 개수\n",
    "    r : 던지는 횟수\n",
    "    bin_num : 히스토그램을 그릴 때 자르는 영역의 개수\n",
    "    '''\n",
    "    value = np.zeros(n)\n",
    "\n",
    "    for i in range(0,r):\n",
    "        value += coin(n)\n",
    "       \n",
    "    \n",
    "    return value"
   ]
  },
  {
   "cell_type": "code",
   "execution_count": 11,
   "metadata": {},
   "outputs": [
    {
     "name": "stdout",
     "output_type": "stream",
     "text": [
      "it takes 4.633779287338257 sec\n"
     ]
    }
   ],
   "source": [
    "s = time.time()\n",
    "\n",
    "value = CLT_without_cuda(1024,iterations)\n",
    "\n",
    "e = time.time()\n",
    "\n",
    "print('it takes', e - s, 'sec')"
   ]
  },
  {
   "cell_type": "markdown",
   "metadata": {},
   "source": [
    "cuda를 이용했을때, 1024배 더 많은 개수의 coin을 던졌는데도 전체 속도는 3배 걸렸다.."
   ]
  },
  {
   "cell_type": "code",
   "execution_count": 14,
   "metadata": {},
   "outputs": [],
   "source": [
    "def coin(n):\n",
    "    result = np.round(np.random.rand(n),0)\n",
    "    return result\n",
    "\n",
    "@jit\n",
    "def CLT_with_jit(n,r):\n",
    "    '''\n",
    "    n : 던지는 동전의 개수\n",
    "    r : 던지는 횟수\n",
    "    bin_num : 히스토그램을 그릴 때 자르는 영역의 개수\n",
    "    '''\n",
    "    value = np.zeros(n)\n",
    "\n",
    "    for i in range(0,r):\n",
    "        value += coin(n)\n",
    "       \n",
    "    \n",
    "    return value"
   ]
  },
  {
   "cell_type": "code",
   "execution_count": 15,
   "metadata": {},
   "outputs": [
    {
     "name": "stdout",
     "output_type": "stream",
     "text": [
      "it takes 4.950063467025757 sec\n"
     ]
    }
   ],
   "source": [
    "s = time.time()\n",
    "\n",
    "value = CLT_without_cuda(1024,iterations)\n",
    "\n",
    "e = time.time()\n",
    "\n",
    "print('it takes', e - s, 'sec')"
   ]
  },
  {
   "cell_type": "markdown",
   "metadata": {},
   "source": [
    "@jit의 경우 cpu 병렬 계산을 해준다. cpu 병렬화는 이미 numpy에서 이루어졌기에 속도의 큰 변화가 없다.(오히려 느려져보인다.)"
   ]
  },
  {
   "cell_type": "code",
   "execution_count": null,
   "metadata": {},
   "outputs": [],
   "source": []
  }
 ],
 "metadata": {
  "kernelspec": {
   "display_name": "Python 3",
   "language": "python",
   "name": "python3"
  },
  "language_info": {
   "codemirror_mode": {
    "name": "ipython",
    "version": 3
   },
   "file_extension": ".py",
   "mimetype": "text/x-python",
   "name": "python",
   "nbconvert_exporter": "python",
   "pygments_lexer": "ipython3",
   "version": "3.7.6"
  }
 },
 "nbformat": 4,
 "nbformat_minor": 4
}
